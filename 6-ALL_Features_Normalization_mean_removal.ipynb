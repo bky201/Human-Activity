{
 "cells": [
  {
   "cell_type": "code",
   "execution_count": 1,
   "metadata": {
    "colab": {},
    "colab_type": "code",
    "id": "JK1wiYzYIxCK"
   },
   "outputs": [],
   "source": [
    "import glob\n",
    "import pandas as pd\n",
    "import numpy as np\n",
    "import os, sys\n",
    "import collections\n",
    "import math\n",
    "import matplotlib.pyplot as plt\n",
    "%matplotlib inline\n",
    "plt.style.use('ggplot')"
   ]
  },
  {
   "cell_type": "code",
   "execution_count": 2,
   "metadata": {},
   "outputs": [],
   "source": [
    "import numpy as np\n",
    "import pandas as pd\n",
    "from sklearn.metrics import f1_score\n",
    "from sklearn.model_selection import KFold\n",
    "from sklearn.model_selection import LeaveOneGroupOut\n",
    "from sklearn.model_selection import cross_val_score\n",
    "\n",
    "\n",
    "from sklearn.model_selection import train_test_split\n",
    "from sklearn.ensemble import RandomForestClassifier\n",
    "from sklearn.metrics import accuracy_score, roc_auc_score\n",
    "from sklearn.feature_selection import VarianceThreshold\n",
    "from sklearn.preprocessing import StandardScaler\n",
    "from sklearn.ensemble import GradientBoostingClassifier "
   ]
  },
  {
   "cell_type": "code",
   "execution_count": 3,
   "metadata": {
    "colab": {
     "base_uri": "https://localhost:8080/",
     "height": 125
    },
    "colab_type": "code",
    "executionInfo": {
     "elapsed": 39184,
     "status": "ok",
     "timestamp": 1590799556318,
     "user": {
      "displayName": "BEKRY MOHAMMEDDAWA",
      "photoUrl": "https://lh6.googleusercontent.com/-7j4JARNyQ3c/AAAAAAAAAAI/AAAAAAAAAIs/zlpWr3A2OcI/s64/photo.jpg",
      "userId": "03084319400094525820"
     },
     "user_tz": -120
    },
    "id": "eMqZnTcFI1Ma",
    "outputId": "fd551f65-a5c5-4a3d-897e-b1a0af00a236"
   },
   "outputs": [],
   "source": [
    "from numba.typed import List\n",
    "from numba import jit, njit, vectorize"
   ]
  },
  {
   "cell_type": "code",
   "execution_count": 4,
   "metadata": {},
   "outputs": [],
   "source": [
    "from sklearn import preprocessing\n",
    "from sklearn.preprocessing import StandardScaler"
   ]
  },
  {
   "cell_type": "code",
   "execution_count": 5,
   "metadata": {
    "colab": {
     "base_uri": "https://localhost:8080/",
     "height": 34
    },
    "colab_type": "code",
    "executionInfo": {
     "elapsed": 39166,
     "status": "ok",
     "timestamp": 1590799556321,
     "user": {
      "displayName": "BEKRY MOHAMMEDDAWA",
      "photoUrl": "https://lh6.googleusercontent.com/-7j4JARNyQ3c/AAAAAAAAAAI/AAAAAAAAAIs/zlpWr3A2OcI/s64/photo.jpg",
      "userId": "03084319400094525820"
     },
     "user_tz": -120
    },
    "id": "L6CPZsFqIxCU",
    "outputId": "90507f9e-85b3-4f7a-eea0-68c512f50d30"
   },
   "outputs": [
    {
     "name": "stdout",
     "output_type": "stream",
     "text": [
      "16\n"
     ]
    }
   ],
   "source": [
    "sample_rate = 50  # number of observation per second based on dataset documentation(150 samples in 3 second)\n",
    "\n",
    "sliding_size = int((1/3) * sample_rate)  # number of skipped datapoints to start next window\n",
    "print(sliding_size)"
   ]
  },
  {
   "cell_type": "markdown",
   "metadata": {
    "colab_type": "text",
    "id": "nsLxSb-5IxCa"
   },
   "source": [
    "# Feature sets"
   ]
  },
  {
   "cell_type": "code",
   "execution_count": 6,
   "metadata": {
    "colab": {},
    "colab_type": "code",
    "id": "1dr03fDIIxCc"
   },
   "outputs": [],
   "source": [
    "@njit()\n",
    "def mean_crossing_rate(col):\n",
    "    # col = np.array(values)\n",
    "    normalized = col - col.mean()  # to make elements of array possitive or negetive\n",
    "    return ((normalized[:-1] * col[1:]) < 0).sum()  # Zero-Crossing_rate\n",
    "\n",
    "@njit()\n",
    "def iqr(window):  # inter-quartile range\n",
    "    Q1 = np.median(window[:len(window)//2])  # First quartile (Q1) \n",
    "    Q3 = np.median(window[len(window)//2:])  # Third quartile (Q3) \n",
    "    IQR = Q3 - Q1 # Interquartile range (IQR) \n",
    "    return(IQR) \n",
    "@njit()\n",
    "def calc_sma_for_window(data):\n",
    "    return np.sum(data) / len(data)  \n",
    "@njit()\n",
    "def get_min(x):\n",
    "    m = np.min(x)\n",
    "    return m\n",
    "@njit()\n",
    "def get_max(x):\n",
    "    m = np.max(x)\n",
    "    return m\n",
    "@njit()\n",
    "def get_mean(x):\n",
    "    m = np.mean(x)\n",
    "    return m\n",
    "@njit()\n",
    "def get_var(x):\n",
    "    m = np.var(x)\n",
    "    return m\n",
    "@njit()\n",
    "def get_sum(x):\n",
    "    m = x.sum()\n",
    "    return m \n",
    "@njit()\n",
    "def get_median(x):\n",
    "    m = np.median(x)\n",
    "    return m \n",
    "@njit()\n",
    "def get_std(x):\n",
    "    m = np.median(x)\n",
    "    return m \n",
    "@njit()\n",
    "def get_rng(x):\n",
    "    n = np.max(x)\n",
    "    m = np.min(x)\n",
    "    z = n-m\n",
    "    return z \n",
    "\n",
    "def get_entropy(Y):\n",
    "    \"\"\"\n",
    "    Also known as Shanon Entropy\n",
    "    Reference: https://en.wikipedia.org/wiki/Entropy_(information_theory)\n",
    "    \"\"\"\n",
    "    unique, count = np.unique(Y, return_counts=True, axis=0)\n",
    "    prob = count/len(Y)\n",
    "    en = np.sum((-1)*prob*np.log2(prob))\n",
    "    return en"
   ]
  },
  {
   "cell_type": "code",
   "execution_count": 7,
   "metadata": {},
   "outputs": [],
   "source": [
    "def Energy(frame):\n",
    "    return sum( [ abs(x)**2 for x in frame ] ) / len(frame)"
   ]
  },
  {
   "cell_type": "code",
   "execution_count": 8,
   "metadata": {},
   "outputs": [],
   "source": [
    "def Features(window):# mean, std,max,min and zero-crossing-rate\n",
    "    wind = window.iloc[:, :-1]\n",
    "    win = np.array(wind)\n",
    "    features = []\n",
    "    \n",
    "    features.append(get_mean(win))\n",
    "    features.append(get_median(win))\n",
    "    features.append(get_std(win))\n",
    "    features.append(get_min(win))\n",
    "    features.append(get_max(win))\n",
    "    features.append(get_sum(win))\n",
    "    features.append(calc_sma_for_window(win))\n",
    "    features.append(get_rng(win))\n",
    "    features.append(get_entropy(win))\n",
    "    mean_crossing = [mean_crossing_rate(win[:, i]) for i in range(win.shape[1])]\n",
    "    features.append(np.array(mean_crossing))\n",
    "    IQR = iqr(win)\n",
    "    features.append(np.array(IQR))\n",
    "    energy_measure = Energy(win)\n",
    "    features.append(np.array(energy_measure))\n",
    " \n",
    "\n",
    "    \n",
    "    features = np.hstack(features).tolist()\n",
    "    \n",
    "    label = window.iloc[:, -1].mode()[0]  ## select the most frequent label as the label of the window\n",
    "    features.append(label)\n",
    "    return features"
   ]
  },
  {
   "cell_type": "code",
   "execution_count": 9,
   "metadata": {
    "colab": {},
    "colab_type": "code",
    "id": "BoePfFWVIxCh"
   },
   "outputs": [],
   "source": [
    "def windowing_dataset(dataset, win_size, feature_extraction_function, subject_id, overlap=False):\n",
    "    windowed_dataset = []\n",
    "    win_count = 0\n",
    "    if overlap:\n",
    "        step_size = sliding_size  # for Overlapping technique\n",
    "    else:\n",
    "        step_size = win_size  # for Non-overlapping technique\n",
    "\n",
    "    for index in range(0, dataset.shape[0], step_size):\n",
    "        start = index\n",
    "        end = start + win_size\n",
    "        # to assure all of windows are equal in size\n",
    "        if (end <= dataset.shape[0]):\n",
    "            window = dataset.iloc[start:end, :].reset_index(drop=True)\n",
    "            win_count = win_count + 1\n",
    "            features = feature_extraction_function(window)\n",
    "\n",
    "            windowed_dataset.append(features)\n",
    "\n",
    "    final = pd.DataFrame(windowed_dataset)\n",
    "    final.insert(0, 'group', subject_id)  # to use in Subject CV\n",
    "    return final"
   ]
  },
  {
   "cell_type": "code",
   "execution_count": 10,
   "metadata": {
    "colab": {},
    "colab_type": "code",
    "id": "TPoQlpJGIxCn"
   },
   "outputs": [],
   "source": [
    "def Preprocessing(dataset_path, overlapping):\n",
    "    feature_function = Features\n",
    "    win_size = 3\n",
    "\n",
    "    print(\"Start for win size {}\".format(win_size))\n",
    "    datapoints_per_window = int(win_size * sample_rate)\n",
    "\n",
    "    print(feature_function.__name__)\n",
    "\n",
    "    ALL = []\n",
    "   \n",
    "    for subject in range(1,18):\n",
    "        file_path = dataset_path + '\\subject{0}_ideal.csv'.format(subject)\n",
    "        all_cols = []\n",
    "        \n",
    "        \n",
    "#########################################################################################################################\n",
    "        for i in range(2, 117, 13):# indices of accelarations\n",
    "            indices = list(range(i, i + 13))\n",
    "            all_cols.extend(indices)\n",
    "\n",
    "        all_cols.append(119)  # label index\n",
    "\n",
    "        tmp_db = pd.read_csv(file_path, header=None, usecols=all_cols, sep='\\t')\n",
    "        tmp_db.columns = list(range(tmp_db.shape[1]))  # re-index the columns\n",
    "\n",
    "        transformed_db = windowing_dataset(tmp_db, datapoints_per_window, feature_function, subject,\n",
    "                                                   overlap=overlapping)\n",
    "\n",
    "        ALL.append(transformed_db)\n",
    "#########################################################################################################################\n",
    "       \n",
    "    #final_dataset = pd.DataFrame()\n",
    "    ALL_dataset = pd.DataFrame()\n",
    "    ALL_dataset = ALL_dataset.append(ALL, ignore_index=True)\n",
    "    \n",
    "    return ALL_dataset\n",
    "   "
   ]
  },
  {
   "cell_type": "code",
   "execution_count": 11,
   "metadata": {
    "colab": {
     "base_uri": "https://localhost:8080/",
     "height": 54
    },
    "colab_type": "code",
    "executionInfo": {
     "elapsed": 39135,
     "status": "ok",
     "timestamp": 1590799556333,
     "user": {
      "displayName": "BEKRY MOHAMMEDDAWA",
      "photoUrl": "https://lh6.googleusercontent.com/-7j4JARNyQ3c/AAAAAAAAAAI/AAAAAAAAAIs/zlpWr3A2OcI/s64/photo.jpg",
      "userId": "03084319400094525820"
     },
     "user_tz": -120
    },
    "id": "_ZJHgU7gIxCs",
    "outputId": "bc61162a-1dd4-4cec-bb29-7c126f1e6a11"
   },
   "outputs": [],
   "source": [
    "def subject_cross_validation(X, Y, groups, classifier):\n",
    "    f1 = []\n",
    "    logo = LeaveOneGroupOut()\n",
    "    i = 0\n",
    "    for train_index, test_index in logo.split(X, Y, groups=groups):\n",
    "        X_train, X_test = X[train_index], X[test_index]\n",
    "        y_train, y_test = Y[train_index], Y[test_index]\n",
    "        i += 1\n",
    "        classifier.fit(X_train, y_train)\n",
    "\n",
    "        y_pred = classifier.predict(X_test)\n",
    "        f = f1_score(y_true=y_test, y_pred=y_pred, average='micro')\n",
    "        \n",
    "        print('Model-',i ,' -',' f1 score: ', f)\n",
    "       \n",
    "        f1.append(f)\n",
    "    return np.mean(f1)"
   ]
  },
  {
   "cell_type": "markdown",
   "metadata": {},
   "source": [
    "# mean_removal on features"
   ]
  },
  {
   "cell_type": "code",
   "execution_count": 12,
   "metadata": {},
   "outputs": [],
   "source": [
    "def classifier(dataset, model):\n",
    "    results = dict()\n",
    "    win_size = float(3)\n",
    "    print('window_size = ', win_size,' sec')\n",
    "\n",
    "    dataset = dataset\n",
    "    groups = dataset['group']\n",
    "    X = dataset.iloc[:, 1:-1]\n",
    "    X = np.array(X)\n",
    "    data_standardized = preprocessing.scale(X) # mean removal on features after extraction\n",
    "    X = data_standardized\n",
    "    Y = dataset.iloc[:, -1]\n",
    "    Y = np.array(Y)\n",
    "\n",
    "    for model_name, mod in model.items():\n",
    "        f1 = 0\n",
    "\n",
    "        f1 = subject_cross_validation(X, Y, groups, mod)\n",
    "\n",
    "        if win_size in results:\n",
    "            results[win_size].append(f1)\n",
    "        else:\n",
    "            results[win_size] = [f1]\n",
    "\n",
    "\n",
    "        results = collections.OrderedDict(sorted(results.items()))\n",
    "\n",
    "        final = []\n",
    "        col = list(model.keys())\n",
    "        col.insert(0, \"window-size\")\n",
    "        final.append(col)\n",
    "        for k, v in results.items():\n",
    "            tmp = []\n",
    "            tmp.append([k])\n",
    "            tmp.append(v)\n",
    "            flattened = [val for sublist in tmp for val in sublist]\n",
    "            final.append(flattened)\n",
    "\n",
    "    accuracy = final[1][1]\n",
    "    print(accuracy)\n",
    "    return accuracy"
   ]
  },
  {
   "cell_type": "code",
   "execution_count": 22,
   "metadata": {},
   "outputs": [],
   "source": [
    "mod = {'RF': RandomForestClassifier(n_estimators=40, random_state=42, n_jobs=-1)}"
   ]
  },
  {
   "cell_type": "code",
   "execution_count": 14,
   "metadata": {
    "colab": {
     "base_uri": "https://localhost:8080/",
     "height": 70
    },
    "colab_type": "code",
    "executionInfo": {
     "elapsed": 908479,
     "status": "ok",
     "timestamp": 1590800425696,
     "user": {
      "displayName": "BEKRY MOHAMMEDDAWA",
      "photoUrl": "https://lh6.googleusercontent.com/-7j4JARNyQ3c/AAAAAAAAAAI/AAAAAAAAAIs/zlpWr3A2OcI/s64/photo.jpg",
      "userId": "03084319400094525820"
     },
     "user_tz": -120
    },
    "id": "SJbUrsB2IxCy",
    "outputId": "769b89aa-8a18-458c-db6a-525751c02a73"
   },
   "outputs": [
    {
     "name": "stdout",
     "output_type": "stream",
     "text": [
      "Start for win size 3\n",
      "Features\n"
     ]
    }
   ],
   "source": [
    "dataset_csv_path = r\"D:\\projec\\proj\\data\"\n",
    "\n",
    "overlapping = 1  # input 0 for non overlapping, 1 for overlapping\n",
    "\n",
    "ALL = Preprocessing(dataset_path=dataset_csv_path, overlapping=bool(int(overlapping)))"
   ]
  },
  {
   "cell_type": "code",
   "execution_count": 15,
   "metadata": {},
   "outputs": [
    {
     "data": {
      "text/html": [
       "<div>\n",
       "<style scoped>\n",
       "    .dataframe tbody tr th:only-of-type {\n",
       "        vertical-align: middle;\n",
       "    }\n",
       "\n",
       "    .dataframe tbody tr th {\n",
       "        vertical-align: top;\n",
       "    }\n",
       "\n",
       "    .dataframe thead th {\n",
       "        text-align: right;\n",
       "    }\n",
       "</style>\n",
       "<table border=\"1\" class=\"dataframe\">\n",
       "  <thead>\n",
       "    <tr style=\"text-align: right;\">\n",
       "      <th></th>\n",
       "      <th>group</th>\n",
       "      <th>0</th>\n",
       "      <th>1</th>\n",
       "      <th>2</th>\n",
       "      <th>3</th>\n",
       "      <th>4</th>\n",
       "      <th>5</th>\n",
       "      <th>6</th>\n",
       "      <th>7</th>\n",
       "      <th>8</th>\n",
       "      <th>...</th>\n",
       "      <th>235</th>\n",
       "      <th>236</th>\n",
       "      <th>237</th>\n",
       "      <th>238</th>\n",
       "      <th>239</th>\n",
       "      <th>240</th>\n",
       "      <th>241</th>\n",
       "      <th>242</th>\n",
       "      <th>243</th>\n",
       "      <th>244</th>\n",
       "    </tr>\n",
       "  </thead>\n",
       "  <tbody>\n",
       "    <tr>\n",
       "      <th>0</th>\n",
       "      <td>1</td>\n",
       "      <td>-0.317008</td>\n",
       "      <td>0.074480</td>\n",
       "      <td>0.074480</td>\n",
       "      <td>-13.572</td>\n",
       "      <td>13.123</td>\n",
       "      <td>-5563.499014</td>\n",
       "      <td>-37.089993</td>\n",
       "      <td>26.695</td>\n",
       "      <td>7.228819</td>\n",
       "      <td>...</td>\n",
       "      <td>3.433057</td>\n",
       "      <td>0.096471</td>\n",
       "      <td>0.409673</td>\n",
       "      <td>0.065249</td>\n",
       "      <td>0.081963</td>\n",
       "      <td>0.060492</td>\n",
       "      <td>0.428163</td>\n",
       "      <td>0.104005</td>\n",
       "      <td>0.407340</td>\n",
       "      <td>1</td>\n",
       "    </tr>\n",
       "    <tr>\n",
       "      <th>1</th>\n",
       "      <td>1</td>\n",
       "      <td>-0.320368</td>\n",
       "      <td>0.068405</td>\n",
       "      <td>0.068405</td>\n",
       "      <td>-13.572</td>\n",
       "      <td>13.123</td>\n",
       "      <td>-5622.463930</td>\n",
       "      <td>-37.483093</td>\n",
       "      <td>26.695</td>\n",
       "      <td>7.228819</td>\n",
       "      <td>...</td>\n",
       "      <td>2.955452</td>\n",
       "      <td>0.095075</td>\n",
       "      <td>0.413741</td>\n",
       "      <td>0.068959</td>\n",
       "      <td>0.064359</td>\n",
       "      <td>0.058963</td>\n",
       "      <td>0.406512</td>\n",
       "      <td>0.092348</td>\n",
       "      <td>0.442178</td>\n",
       "      <td>1</td>\n",
       "    </tr>\n",
       "    <tr>\n",
       "      <th>2</th>\n",
       "      <td>1</td>\n",
       "      <td>-0.323965</td>\n",
       "      <td>0.068771</td>\n",
       "      <td>0.068771</td>\n",
       "      <td>-13.572</td>\n",
       "      <td>13.123</td>\n",
       "      <td>-5685.586551</td>\n",
       "      <td>-37.903910</td>\n",
       "      <td>26.695</td>\n",
       "      <td>7.228819</td>\n",
       "      <td>...</td>\n",
       "      <td>2.090189</td>\n",
       "      <td>0.071682</td>\n",
       "      <td>0.437328</td>\n",
       "      <td>0.062415</td>\n",
       "      <td>0.059816</td>\n",
       "      <td>0.050159</td>\n",
       "      <td>0.424356</td>\n",
       "      <td>0.094437</td>\n",
       "      <td>0.431047</td>\n",
       "      <td>1</td>\n",
       "    </tr>\n",
       "    <tr>\n",
       "      <th>3</th>\n",
       "      <td>1</td>\n",
       "      <td>-0.336631</td>\n",
       "      <td>0.071631</td>\n",
       "      <td>0.071631</td>\n",
       "      <td>-13.547</td>\n",
       "      <td>10.304</td>\n",
       "      <td>-5907.879152</td>\n",
       "      <td>-39.385861</td>\n",
       "      <td>23.851</td>\n",
       "      <td>7.228819</td>\n",
       "      <td>...</td>\n",
       "      <td>2.260539</td>\n",
       "      <td>0.066683</td>\n",
       "      <td>0.459112</td>\n",
       "      <td>0.052358</td>\n",
       "      <td>0.067397</td>\n",
       "      <td>0.045673</td>\n",
       "      <td>0.462147</td>\n",
       "      <td>0.108078</td>\n",
       "      <td>0.384102</td>\n",
       "      <td>1</td>\n",
       "    </tr>\n",
       "    <tr>\n",
       "      <th>4</th>\n",
       "      <td>1</td>\n",
       "      <td>-0.348977</td>\n",
       "      <td>0.073038</td>\n",
       "      <td>0.073038</td>\n",
       "      <td>-13.547</td>\n",
       "      <td>12.127</td>\n",
       "      <td>-6124.541712</td>\n",
       "      <td>-40.830278</td>\n",
       "      <td>25.674</td>\n",
       "      <td>7.228819</td>\n",
       "      <td>...</td>\n",
       "      <td>3.138315</td>\n",
       "      <td>0.075594</td>\n",
       "      <td>0.467472</td>\n",
       "      <td>0.047577</td>\n",
       "      <td>0.067944</td>\n",
       "      <td>0.051054</td>\n",
       "      <td>0.470697</td>\n",
       "      <td>0.113735</td>\n",
       "      <td>0.364515</td>\n",
       "      <td>1</td>\n",
       "    </tr>\n",
       "    <tr>\n",
       "      <th>5</th>\n",
       "      <td>1</td>\n",
       "      <td>-0.371705</td>\n",
       "      <td>0.086086</td>\n",
       "      <td>0.086086</td>\n",
       "      <td>-16.693</td>\n",
       "      <td>13.038</td>\n",
       "      <td>-6523.425930</td>\n",
       "      <td>-43.489506</td>\n",
       "      <td>29.731</td>\n",
       "      <td>7.228819</td>\n",
       "      <td>...</td>\n",
       "      <td>3.324015</td>\n",
       "      <td>0.098932</td>\n",
       "      <td>0.452130</td>\n",
       "      <td>0.049836</td>\n",
       "      <td>0.075622</td>\n",
       "      <td>0.054213</td>\n",
       "      <td>0.458554</td>\n",
       "      <td>0.109609</td>\n",
       "      <td>0.377625</td>\n",
       "      <td>1</td>\n",
       "    </tr>\n",
       "    <tr>\n",
       "      <th>6</th>\n",
       "      <td>1</td>\n",
       "      <td>-0.397238</td>\n",
       "      <td>0.088222</td>\n",
       "      <td>0.088222</td>\n",
       "      <td>-16.693</td>\n",
       "      <td>13.038</td>\n",
       "      <td>-6971.534233</td>\n",
       "      <td>-46.476895</td>\n",
       "      <td>29.731</td>\n",
       "      <td>7.228819</td>\n",
       "      <td>...</td>\n",
       "      <td>3.237408</td>\n",
       "      <td>0.099800</td>\n",
       "      <td>0.440110</td>\n",
       "      <td>0.051009</td>\n",
       "      <td>0.077333</td>\n",
       "      <td>0.055490</td>\n",
       "      <td>0.446425</td>\n",
       "      <td>0.105752</td>\n",
       "      <td>0.392333</td>\n",
       "      <td>1</td>\n",
       "    </tr>\n",
       "    <tr>\n",
       "      <th>7</th>\n",
       "      <td>1</td>\n",
       "      <td>-0.435878</td>\n",
       "      <td>0.082128</td>\n",
       "      <td>0.082128</td>\n",
       "      <td>-17.479</td>\n",
       "      <td>18.240</td>\n",
       "      <td>-7649.662100</td>\n",
       "      <td>-50.997747</td>\n",
       "      <td>35.719</td>\n",
       "      <td>7.228819</td>\n",
       "      <td>...</td>\n",
       "      <td>3.112343</td>\n",
       "      <td>0.092486</td>\n",
       "      <td>0.455538</td>\n",
       "      <td>0.052813</td>\n",
       "      <td>0.058612</td>\n",
       "      <td>0.055669</td>\n",
       "      <td>0.429769</td>\n",
       "      <td>0.098172</td>\n",
       "      <td>0.416389</td>\n",
       "      <td>1</td>\n",
       "    </tr>\n",
       "    <tr>\n",
       "      <th>8</th>\n",
       "      <td>1</td>\n",
       "      <td>-0.467565</td>\n",
       "      <td>0.093603</td>\n",
       "      <td>0.093603</td>\n",
       "      <td>-18.348</td>\n",
       "      <td>18.240</td>\n",
       "      <td>-8205.770461</td>\n",
       "      <td>-54.705136</td>\n",
       "      <td>36.588</td>\n",
       "      <td>7.228819</td>\n",
       "      <td>...</td>\n",
       "      <td>2.196212</td>\n",
       "      <td>0.069423</td>\n",
       "      <td>0.463414</td>\n",
       "      <td>0.048845</td>\n",
       "      <td>0.073784</td>\n",
       "      <td>0.048486</td>\n",
       "      <td>0.451738</td>\n",
       "      <td>0.104297</td>\n",
       "      <td>0.395479</td>\n",
       "      <td>1</td>\n",
       "    </tr>\n",
       "    <tr>\n",
       "      <th>9</th>\n",
       "      <td>1</td>\n",
       "      <td>-0.503556</td>\n",
       "      <td>0.096744</td>\n",
       "      <td>0.096744</td>\n",
       "      <td>-18.348</td>\n",
       "      <td>18.240</td>\n",
       "      <td>-8837.401092</td>\n",
       "      <td>-58.916007</td>\n",
       "      <td>36.588</td>\n",
       "      <td>7.228819</td>\n",
       "      <td>...</td>\n",
       "      <td>3.605017</td>\n",
       "      <td>0.084708</td>\n",
       "      <td>0.479525</td>\n",
       "      <td>0.042276</td>\n",
       "      <td>0.069691</td>\n",
       "      <td>0.051493</td>\n",
       "      <td>0.466764</td>\n",
       "      <td>0.110999</td>\n",
       "      <td>0.370745</td>\n",
       "      <td>1</td>\n",
       "    </tr>\n",
       "  </tbody>\n",
       "</table>\n",
       "<p>10 rows × 246 columns</p>\n",
       "</div>"
      ],
      "text/plain": [
       "   group         0         1         2       3       4            5  \\\n",
       "0      1 -0.317008  0.074480  0.074480 -13.572  13.123 -5563.499014   \n",
       "1      1 -0.320368  0.068405  0.068405 -13.572  13.123 -5622.463930   \n",
       "2      1 -0.323965  0.068771  0.068771 -13.572  13.123 -5685.586551   \n",
       "3      1 -0.336631  0.071631  0.071631 -13.547  10.304 -5907.879152   \n",
       "4      1 -0.348977  0.073038  0.073038 -13.547  12.127 -6124.541712   \n",
       "5      1 -0.371705  0.086086  0.086086 -16.693  13.038 -6523.425930   \n",
       "6      1 -0.397238  0.088222  0.088222 -16.693  13.038 -6971.534233   \n",
       "7      1 -0.435878  0.082128  0.082128 -17.479  18.240 -7649.662100   \n",
       "8      1 -0.467565  0.093603  0.093603 -18.348  18.240 -8205.770461   \n",
       "9      1 -0.503556  0.096744  0.096744 -18.348  18.240 -8837.401092   \n",
       "\n",
       "           6       7         8  ...       235       236       237       238  \\\n",
       "0 -37.089993  26.695  7.228819  ...  3.433057  0.096471  0.409673  0.065249   \n",
       "1 -37.483093  26.695  7.228819  ...  2.955452  0.095075  0.413741  0.068959   \n",
       "2 -37.903910  26.695  7.228819  ...  2.090189  0.071682  0.437328  0.062415   \n",
       "3 -39.385861  23.851  7.228819  ...  2.260539  0.066683  0.459112  0.052358   \n",
       "4 -40.830278  25.674  7.228819  ...  3.138315  0.075594  0.467472  0.047577   \n",
       "5 -43.489506  29.731  7.228819  ...  3.324015  0.098932  0.452130  0.049836   \n",
       "6 -46.476895  29.731  7.228819  ...  3.237408  0.099800  0.440110  0.051009   \n",
       "7 -50.997747  35.719  7.228819  ...  3.112343  0.092486  0.455538  0.052813   \n",
       "8 -54.705136  36.588  7.228819  ...  2.196212  0.069423  0.463414  0.048845   \n",
       "9 -58.916007  36.588  7.228819  ...  3.605017  0.084708  0.479525  0.042276   \n",
       "\n",
       "        239       240       241       242       243  244  \n",
       "0  0.081963  0.060492  0.428163  0.104005  0.407340    1  \n",
       "1  0.064359  0.058963  0.406512  0.092348  0.442178    1  \n",
       "2  0.059816  0.050159  0.424356  0.094437  0.431047    1  \n",
       "3  0.067397  0.045673  0.462147  0.108078  0.384102    1  \n",
       "4  0.067944  0.051054  0.470697  0.113735  0.364515    1  \n",
       "5  0.075622  0.054213  0.458554  0.109609  0.377625    1  \n",
       "6  0.077333  0.055490  0.446425  0.105752  0.392333    1  \n",
       "7  0.058612  0.055669  0.429769  0.098172  0.416389    1  \n",
       "8  0.073784  0.048486  0.451738  0.104297  0.395479    1  \n",
       "9  0.069691  0.051493  0.466764  0.110999  0.370745    1  \n",
       "\n",
       "[10 rows x 246 columns]"
      ]
     },
     "execution_count": 15,
     "metadata": {},
     "output_type": "execute_result"
    }
   ],
   "source": [
    "ALL.head(10)"
   ]
  },
  {
   "cell_type": "code",
   "execution_count": 23,
   "metadata": {},
   "outputs": [
    {
     "name": "stdout",
     "output_type": "stream",
     "text": [
      "ALL_accuracy = \n",
      "window_size =  3.0  sec\n"
     ]
    },
    {
     "name": "stderr",
     "output_type": "stream",
     "text": [
      "C:\\Users\\BKY\\anaconda3\\lib\\site-packages\\sklearn\\preprocessing\\_data.py:191: UserWarning: Numerical issues were encountered when scaling the data and might not be solved. The standard deviation of the data is probably very close to 0. \n",
      "  warnings.warn(\"Numerical issues were encountered \"\n"
     ]
    },
    {
     "name": "stdout",
     "output_type": "stream",
     "text": [
      "Model- 1  -  f1 score:  0.9748251748251748\n",
      "Model- 2  -  f1 score:  0.984843144166373\n",
      "Model- 3  -  f1 score:  0.9628\n",
      "Model- 4  -  f1 score:  0.9807251032583754\n",
      "Model- 5  -  f1 score:  0.9679310344827586\n",
      "Model- 6  -  f1 score:  0.96\n",
      "Model- 7  -  f1 score:  0.9944598337950139\n",
      "Model- 8  -  f1 score:  0.956221198156682\n",
      "Model- 9  -  f1 score:  0.9620512820512821\n",
      "Model- 10  -  f1 score:  0.9771252987367702\n",
      "Model- 11  -  f1 score:  0.9665625\n",
      "Model- 12  -  f1 score:  0.9729899497487438\n",
      "Model- 13  -  f1 score:  0.9652836579170194\n",
      "Model- 14  -  f1 score:  0.9489616332277367\n",
      "Model- 15  -  f1 score:  0.9718492854049372\n",
      "Model- 16  -  f1 score:  0.922936449963477\n",
      "Model- 17  -  f1 score:  0.9566375047546596\n",
      "0.9662472382640591\n"
     ]
    },
    {
     "data": {
      "text/plain": [
       "0.9662472382640591"
      ]
     },
     "execution_count": 23,
     "metadata": {},
     "output_type": "execute_result"
    }
   ],
   "source": [
    "print('ALL_accuracy = ', )\n",
    "ALL_accuracy = classifier(dataset=ALL, model=mod)\n",
    "ALL_accuracy "
   ]
  },
  {
   "cell_type": "code",
   "execution_count": 24,
   "metadata": {},
   "outputs": [],
   "source": [
    "d ={'ALL': [ALL_accuracy]}"
   ]
  },
  {
   "cell_type": "code",
   "execution_count": 25,
   "metadata": {},
   "outputs": [],
   "source": [
    "df_accuracy = pd.DataFrame(data=d)"
   ]
  },
  {
   "cell_type": "code",
   "execution_count": 26,
   "metadata": {},
   "outputs": [
    {
     "data": {
      "text/html": [
       "<div>\n",
       "<style scoped>\n",
       "    .dataframe tbody tr th:only-of-type {\n",
       "        vertical-align: middle;\n",
       "    }\n",
       "\n",
       "    .dataframe tbody tr th {\n",
       "        vertical-align: top;\n",
       "    }\n",
       "\n",
       "    .dataframe thead th {\n",
       "        text-align: right;\n",
       "    }\n",
       "</style>\n",
       "<table border=\"1\" class=\"dataframe\">\n",
       "  <thead>\n",
       "    <tr style=\"text-align: right;\">\n",
       "      <th></th>\n",
       "      <th>ALL</th>\n",
       "    </tr>\n",
       "  </thead>\n",
       "  <tbody>\n",
       "    <tr>\n",
       "      <th>0</th>\n",
       "      <td>0.966247</td>\n",
       "    </tr>\n",
       "  </tbody>\n",
       "</table>\n",
       "</div>"
      ],
      "text/plain": [
       "        ALL\n",
       "0  0.966247"
      ]
     },
     "execution_count": 26,
     "metadata": {},
     "output_type": "execute_result"
    }
   ],
   "source": [
    "df_accuracy "
   ]
  },
  {
   "cell_type": "code",
   "execution_count": null,
   "metadata": {},
   "outputs": [],
   "source": []
  }
 ],
 "metadata": {
  "colab": {
   "collapsed_sections": [],
   "name": "2-ACC_FEATURE_extraction.ipynb",
   "provenance": [
    {
     "file_id": "1SU1QHunESAxJSZXRKHmhjFK2oy3dRKaS",
     "timestamp": 1590611182419
    },
    {
     "file_id": "1qudyr2XYqFicWtsAvxrBJFsEZ40mJH5N",
     "timestamp": 1590418899156
    },
    {
     "file_id": "1E4adU2mQqg_A46iYrGGTpls3MqY5H-ch",
     "timestamp": 1590195968440
    },
    {
     "file_id": "1uptU8_lPFhKcNrTJjB0BUhrBu_VElJhi",
     "timestamp": 1590195938409
    },
    {
     "file_id": "11oH0W5_KdmXeQu3UO6K5gyN-TwxFSTqB",
     "timestamp": 1590188536325
    }
   ]
  },
  "kernelspec": {
   "display_name": "Python 3",
   "language": "python",
   "name": "python3"
  },
  "language_info": {
   "codemirror_mode": {
    "name": "ipython",
    "version": 3
   },
   "file_extension": ".py",
   "mimetype": "text/x-python",
   "name": "python",
   "nbconvert_exporter": "python",
   "pygments_lexer": "ipython3",
   "version": "3.7.7"
  }
 },
 "nbformat": 4,
 "nbformat_minor": 1
}
