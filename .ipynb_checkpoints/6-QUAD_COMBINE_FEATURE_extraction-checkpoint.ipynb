{
 "cells": [
  {
   "cell_type": "code",
   "execution_count": 1,
   "metadata": {
    "colab": {},
    "colab_type": "code",
    "id": "JK1wiYzYIxCK"
   },
   "outputs": [],
   "source": [
    "import glob\n",
    "\n",
    "import pandas as pd\n",
    "import numpy as np\n",
    "import os, sys"
   ]
  },
  {
   "cell_type": "code",
   "execution_count": 2,
   "metadata": {
    "colab": {
     "base_uri": "https://localhost:8080/",
     "height": 125
    },
    "colab_type": "code",
    "executionInfo": {
     "elapsed": 30762,
     "status": "ok",
     "timestamp": 1590799697076,
     "user": {
      "displayName": "BEKRY MOHAMMEDDAWA",
      "photoUrl": "https://lh6.googleusercontent.com/-7j4JARNyQ3c/AAAAAAAAAAI/AAAAAAAAAIs/zlpWr3A2OcI/s64/photo.jpg",
      "userId": "03084319400094525820"
     },
     "user_tz": -120
    },
    "id": "eMqZnTcFI1Ma",
    "outputId": "ee093310-1ea8-4ed1-9484-0effc7869a62"
   },
   "outputs": [],
   "source": [
    "from numba.typed import List\n",
    "from numba import jit, njit, vectorize"
   ]
  },
  {
   "cell_type": "code",
   "execution_count": 3,
   "metadata": {
    "colab": {
     "base_uri": "https://localhost:8080/",
     "height": 34
    },
    "colab_type": "code",
    "executionInfo": {
     "elapsed": 30742,
     "status": "ok",
     "timestamp": 1590799697079,
     "user": {
      "displayName": "BEKRY MOHAMMEDDAWA",
      "photoUrl": "https://lh6.googleusercontent.com/-7j4JARNyQ3c/AAAAAAAAAAI/AAAAAAAAAIs/zlpWr3A2OcI/s64/photo.jpg",
      "userId": "03084319400094525820"
     },
     "user_tz": -120
    },
    "id": "L6CPZsFqIxCU",
    "outputId": "4398ff38-8483-47fc-8847-bdff8ba4a73b"
   },
   "outputs": [
    {
     "name": "stdout",
     "output_type": "stream",
     "text": [
      "16\n"
     ]
    }
   ],
   "source": [
    "sample_rate = 50  # number of observation per second based on dataset documentation\n",
    "\n",
    "sliding_size = int((1/3) * sample_rate)  # number of skipped datapoints to start next window\n",
    "print(sliding_size)"
   ]
  },
  {
   "cell_type": "markdown",
   "metadata": {
    "colab_type": "text",
    "id": "nsLxSb-5IxCa"
   },
   "source": [
    "# Feature sets"
   ]
  },
  {
   "cell_type": "code",
   "execution_count": 4,
   "metadata": {
    "colab": {},
    "colab_type": "code",
    "id": "1dr03fDIIxCc"
   },
   "outputs": [],
   "source": [
    "@njit()\n",
    "def mean_crossing_rate(col):\n",
    "    # col = np.array(values)\n",
    "    normalized = col - col.mean()  # to make elements of array possitive or negetive\n",
    "    return ((normalized[:-1] * col[1:]) < 0).sum()  # Zero-Crossing_rate\n",
    "\n",
    "@njit()\n",
    "def iqr(window):  # inter-quartile range\n",
    "    Q1 = np.median(window[:len(window)//2])  # First quartile (Q1) \n",
    "    Q3 = np.median(window[len(window)//2:])  # Third quartile (Q3) \n",
    "    IQR = Q3 - Q1 # Interquartile range (IQR) \n",
    "    return(IQR) \n",
    "@njit()\n",
    "def calc_sma_for_window(data):\n",
    "    return np.sum(data) / len(data)  \n",
    "@njit()\n",
    "def get_min(x):\n",
    "    m = np.min(x)\n",
    "    return m\n",
    "@njit()\n",
    "def get_max(x):\n",
    "    m = np.max(x)\n",
    "    return m\n",
    "@njit()\n",
    "def get_mean(x):\n",
    "    m = np.mean(x)\n",
    "    return m\n",
    "@njit()\n",
    "def get_var(x):\n",
    "    m = np.var(x)\n",
    "    return m\n",
    "@njit()\n",
    "def get_mean(x):\n",
    "    m = np.mean(x)\n",
    "    return m\n",
    "@njit()\n",
    "def get_sum(x):\n",
    "    m = x.sum()\n",
    "    return m \n",
    "@njit()\n",
    "def get_median(x):\n",
    "    m = np.median(x)\n",
    "    return m \n",
    "@njit()\n",
    "def get_std(x):\n",
    "    m = np.median(x)\n",
    "    return m "
   ]
  },
  {
   "cell_type": "code",
   "execution_count": 5,
   "metadata": {},
   "outputs": [],
   "source": [
    "def Energy(frame):\n",
    "    return sum( [ abs(x)**2 for x in frame ] ) / len(frame)"
   ]
  },
  {
   "cell_type": "code",
   "execution_count": 6,
   "metadata": {},
   "outputs": [],
   "source": [
    "def FS3(window):# mean, std,max,min and zero-crossing-rate\n",
    "    win = np.array(window[:-1])\n",
    "    signal = np.array(win, dtype=float)\n",
    "    fourier = np.fft.fft(signal) # FFT\n",
    "    N = len(fourier)//2+1\n",
    "    real_fft = np.abs(fourier[:N]) # real value of FFT\n",
    "    n = signal.size\n",
    "    timestep = 0.02 # Sample spacing (inverse of the sampling rate).\n",
    "    freq = np.fft.fftfreq(n, d=timestep) # FREQUENCY DATA\n",
    "    fft_ps = np.abs(fourier)**2 # POWER SPECTRUM\n",
    "    features = []\n",
    "    \n",
    "    features.append(get_mean(fft_ps))\n",
    "    features.append(get_median(fft_ps))\n",
    "    features.append(get_std(fft_ps))\n",
    "    features.append(get_mean(win))\n",
    "    features.append(get_median(win))\n",
    "    features.append(get_std(win))\n",
    "    \n",
    "\n",
    "    features = np.hstack(features).tolist()\n",
    "\n",
    "    label = window.iloc[:, -1].mode()[0]  ## select the most frequent label as the label of the window\n",
    "    features.append(label)\n",
    "    return features"
   ]
  },
  {
   "cell_type": "code",
   "execution_count": 7,
   "metadata": {
    "colab": {},
    "colab_type": "code",
    "id": "BoePfFWVIxCh"
   },
   "outputs": [],
   "source": [
    "def windowing_dataset(dataset, win_size, feature_extraction_function, subject_id, overlap=False):\n",
    "    windowed_dataset = []\n",
    "    win_count = 0\n",
    "    if overlap:\n",
    "        step_size = sliding_size  # for Overlapping technique\n",
    "    else:\n",
    "        step_size = win_size  # for Non-overlapping technique\n",
    "\n",
    "    for index in range(0, dataset.shape[0], step_size):\n",
    "        start = index\n",
    "        end = start + win_size\n",
    "        # to assure all of windows are equal in size\n",
    "        if (end <= dataset.shape[0]):\n",
    "            window = dataset.iloc[start:end, :].reset_index(drop=True)\n",
    "            win_count = win_count + 1\n",
    "            features = feature_extraction_function(window)\n",
    "\n",
    "            windowed_dataset.append(features)\n",
    "\n",
    "    final = pd.DataFrame(windowed_dataset)\n",
    "    final.insert(0, 'group', subject_id)  # to use in Subject CV\n",
    "    return final"
   ]
  },
  {
   "cell_type": "code",
   "execution_count": 8,
   "metadata": {
    "colab": {},
    "colab_type": "code",
    "id": "TPoQlpJGIxCn"
   },
   "outputs": [],
   "source": [
    "def Preprocessing(dataset_path, output_path, overlapping):\n",
    "    feature_function = FS3\n",
    "    win_size = 3\n",
    "    #for win_size in win_sizes:\n",
    "    print(\"Start for win size {}\".format(win_size))\n",
    "    datapoints_per_window = int(win_size * sample_rate)\n",
    "\n",
    "    #for feature_function in features_functions:\n",
    "\n",
    "    print(feature_function.__name__)\n",
    "\n",
    "    windowed_dataset = []\n",
    "\n",
    "    for subject in range(1,18):\n",
    "        file_path = dataset_path + '\\subject{0}_ideal.csv'.format(subject)\n",
    "        acc_cols = []\n",
    "        for i in range(11, 117, 13):# indices of accelarations\n",
    "            indices = list(range(i, i + 4))\n",
    "            acc_cols.extend(indices)\n",
    "\n",
    "        acc_cols.append(119)  # label index\n",
    "\n",
    "        tmp_db = pd.read_csv(file_path, header=None, usecols=acc_cols, sep='\\t')\n",
    "        tmp_db.columns = list(range(tmp_db.shape[1]))  # re-index the columns\n",
    "\n",
    "        transformed_db = windowing_dataset(tmp_db, datapoints_per_window, feature_function, subject,\n",
    "                                                   overlap=overlapping)\n",
    "\n",
    "        windowed_dataset.append(transformed_db)\n",
    "\n",
    "    final_dataset = pd.DataFrame()\n",
    "    print(\"Merging!\")\n",
    "    final_dataset = final_dataset.append(windowed_dataset, ignore_index=True)\n",
    "\n",
    "    out_folder_name = 'QUAD_COMBINED'\n",
    "           \n",
    "    os.makedirs('{}/{}'.format(output_path, out_folder_name), exist_ok=True)\n",
    "\n",
    "    os.makedirs('{}/{}/FS3'.format(output_path, out_folder_name), exist_ok=True)\n",
    "\n",
    "    final_dataset.to_csv('{}/QUAD_COMBINED/FS3/data{}.csv'.format(output_path, out_folder_name, win_size), sep='\\t',index=False)\n"
   ]
  },
  {
   "cell_type": "code",
   "execution_count": 9,
   "metadata": {
    "colab": {
     "base_uri": "https://localhost:8080/",
     "height": 54
    },
    "colab_type": "code",
    "executionInfo": {
     "elapsed": 30716,
     "status": "ok",
     "timestamp": 1590799697088,
     "user": {
      "displayName": "BEKRY MOHAMMEDDAWA",
      "photoUrl": "https://lh6.googleusercontent.com/-7j4JARNyQ3c/AAAAAAAAAAI/AAAAAAAAAIs/zlpWr3A2OcI/s64/photo.jpg",
      "userId": "03084319400094525820"
     },
     "user_tz": -120
    },
    "id": "_ZJHgU7gIxCs",
    "outputId": "0984c325-044a-4043-cd61-2b5edcac1134"
   },
   "outputs": [
    {
     "data": {
      "text/plain": [
       "'\\n\\n - Reads the raw data from input_path\\n - Segments the raw datasets into windowed ones by different window sizes  \\n - From each window it extracts FS1,FS2 and FS3.\\n - Saves results in output_path. \\n \\n  Parameters:\\n    -----------\\n    dataset_path : Path of raw dataset\\n    \\n    output_path : Path to save the processed dataset\\n    \\n    overlapping : Controls the sliding windows technique;\\n    1: Overlapping sliding windows\\n    0: Non-overlapping sliding windows\\n\\n    \\n\\n'"
      ]
     },
     "execution_count": 9,
     "metadata": {},
     "output_type": "execute_result"
    }
   ],
   "source": [
    "'''\n",
    "\n",
    " - Reads the raw data from input_path\n",
    " - Segments the raw datasets into windowed ones by different window sizes  \n",
    " - From each window it extracts FS1,FS2 and FS3.\n",
    " - Saves results in output_path. \n",
    " \n",
    "  Parameters:\n",
    "    -----------\n",
    "    dataset_path : Path of raw dataset\n",
    "    \n",
    "    output_path : Path to save the processed dataset\n",
    "    \n",
    "    overlapping : Controls the sliding windows technique;\n",
    "    1: Overlapping sliding windows\n",
    "    0: Non-overlapping sliding windows\n",
    "\n",
    "    \n",
    "\n",
    "'''"
   ]
  },
  {
   "cell_type": "code",
   "execution_count": 10,
   "metadata": {
    "colab": {
     "base_uri": "https://localhost:8080/",
     "height": 70
    },
    "colab_type": "code",
    "executionInfo": {
     "elapsed": 419985,
     "status": "ok",
     "timestamp": 1590800086370,
     "user": {
      "displayName": "BEKRY MOHAMMEDDAWA",
      "photoUrl": "https://lh6.googleusercontent.com/-7j4JARNyQ3c/AAAAAAAAAAI/AAAAAAAAAIs/zlpWr3A2OcI/s64/photo.jpg",
      "userId": "03084319400094525820"
     },
     "user_tz": -120
    },
    "id": "SJbUrsB2IxCy",
    "outputId": "b6bb552a-fc4a-4dd5-884f-91958b74bcbc"
   },
   "outputs": [
    {
     "name": "stdout",
     "output_type": "stream",
     "text": [
      "Start for win size 3\n",
      "FS3\n",
      "Merging!\n"
     ]
    }
   ],
   "source": [
    "input_path = r\"D:\\projec\\proj\\data\"\n",
    "output_path = r\"D:\\projec\\proj\\result\"\n",
    "overlapping = 1\n",
    "\n",
    "Preprocessing(dataset_path=input_path, output_path=output_path, overlapping=bool(int(overlapping)))\n"
   ]
  }
 ],
 "metadata": {
  "colab": {
   "collapsed_sections": [],
   "name": "2-QUAD_FEATURE_extraction.ipynb",
   "provenance": [
    {
     "file_id": "1SH3FlnnU3SHInqe0Jf5SM3AlxmrfrmQh",
     "timestamp": 1590595008311
    },
    {
     "file_id": "1u8S4l9erxSqkg9H6XewqmUqn0xr1Kfau",
     "timestamp": 1590594965869
    },
    {
     "file_id": "1SU1QHunESAxJSZXRKHmhjFK2oy3dRKaS",
     "timestamp": 1590594920925
    },
    {
     "file_id": "1qudyr2XYqFicWtsAvxrBJFsEZ40mJH5N",
     "timestamp": 1590418899156
    },
    {
     "file_id": "1E4adU2mQqg_A46iYrGGTpls3MqY5H-ch",
     "timestamp": 1590195968440
    },
    {
     "file_id": "1uptU8_lPFhKcNrTJjB0BUhrBu_VElJhi",
     "timestamp": 1590195938409
    },
    {
     "file_id": "11oH0W5_KdmXeQu3UO6K5gyN-TwxFSTqB",
     "timestamp": 1590188536325
    }
   ]
  },
  "kernelspec": {
   "display_name": "Python 3",
   "language": "python",
   "name": "python3"
  },
  "language_info": {
   "codemirror_mode": {
    "name": "ipython",
    "version": 3
   },
   "file_extension": ".py",
   "mimetype": "text/x-python",
   "name": "python",
   "nbconvert_exporter": "python",
   "pygments_lexer": "ipython3",
   "version": "3.7.7"
  }
 },
 "nbformat": 4,
 "nbformat_minor": 1
}
